{
 "cells": [
  {
   "cell_type": "code",
   "execution_count": 2,
   "id": "a0345f44-c1df-4740-aa86-8776e7ad3898",
   "metadata": {},
   "outputs": [],
   "source": [
    "import torch \n",
    "import torch.nn as nn"
   ]
  },
  {
   "cell_type": "code",
   "execution_count": 3,
   "id": "56ce2688-e88e-4a96-bc82-ed153c29486c",
   "metadata": {},
   "outputs": [],
   "source": [
    "in_size = 3\n",
    "out_size = 5\n"
   ]
  },
  {
   "cell_type": "code",
   "execution_count": 5,
   "id": "25d82404-312e-4fb3-98aa-2d95cf3ce770",
   "metadata": {},
   "outputs": [],
   "source": [
    "state = torch.zeros(1, out_size) # state\n",
    "w = torch.zeros(in_size, out_size) # weights\n",
    "threshold = 0.6\n",
    "\n",
    "x = torch.randn(1, in_size) # input"
   ]
  },
  {
   "cell_type": "code",
   "execution_count": 13,
   "id": "e622eba9-2243-4de6-9ae0-4683a4a122b8",
   "metadata": {},
   "outputs": [],
   "source": [
    "out = x@w"
   ]
  },
  {
   "cell_type": "code",
   "execution_count": 14,
   "id": "2a9abdc6-16df-477d-bd37-2073d460fc72",
   "metadata": {},
   "outputs": [
    {
     "data": {
      "text/plain": [
       "tensor([[0., 0., 0., 0., 0.]])"
      ]
     },
     "execution_count": 14,
     "metadata": {},
     "output_type": "execute_result"
    }
   ],
   "source": [
    "out"
   ]
  },
  {
   "cell_type": "code",
   "execution_count": 15,
   "id": "74c8ff95-f022-4202-933c-c03ce624bf70",
   "metadata": {},
   "outputs": [],
   "source": [
    "state = state*0.5 # divid by 2\n",
    "state = state + out # add the output\n"
   ]
  },
  {
   "cell_type": "code",
   "execution_count": 17,
   "id": "0134d31e-8ab0-4eef-bbc6-0f95a053ecb6",
   "metadata": {},
   "outputs": [
    {
     "data": {
      "text/plain": [
       "tensor([[0, 0, 0, 0, 0]])"
      ]
     },
     "execution_count": 17,
     "metadata": {},
     "output_type": "execute_result"
    }
   ],
   "source": [
    "spikes = torch.where(state < threshold, 0, 1) # if < 0.6 => 0 else 1\n",
    "spikes"
   ]
  },
  {
   "cell_type": "code",
   "execution_count": null,
   "id": "a6009559-f6ea-4db5-aed5-adec1bd2eb8c",
   "metadata": {},
   "outputs": [],
   "source": []
  }
 ],
 "metadata": {
  "kernelspec": {
   "display_name": "Python (IRL_env)",
   "language": "python",
   "name": "irl_env"
  },
  "language_info": {
   "codemirror_mode": {
    "name": "ipython",
    "version": 3
   },
   "file_extension": ".py",
   "mimetype": "text/x-python",
   "name": "python",
   "nbconvert_exporter": "python",
   "pygments_lexer": "ipython3",
   "version": "3.10.16"
  }
 },
 "nbformat": 4,
 "nbformat_minor": 5
}
